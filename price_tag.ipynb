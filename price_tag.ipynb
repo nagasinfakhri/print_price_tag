{
 "cells": [
  {
   "cell_type": "code",
   "execution_count": 1,
   "id": "dbbf0114-e68c-4cf3-8170-802e96a8208e",
   "metadata": {},
   "outputs": [],
   "source": [
    "#imports\n",
    "\n",
    "import os\n",
    "import gspread\n",
    "from oauth2client.service_account import ServiceAccountCredentials\n",
    "from PIL import Image, ImageDraw, ImageFont\n",
    "import numpy as np\n",
    "import matplotlib.pyplot as plt"
   ]
  },
  {
   "cell_type": "code",
   "execution_count": 2,
   "id": "e26e14fc-b0f4-4c2a-92a5-824b65349cea",
   "metadata": {},
   "outputs": [],
   "source": [
    "# Google Sheets Setup\n",
    "SPREADSHEET_NAME = \"price tag tableau\"\n",
    "GOOGLE_CREDENTIALS_FILE = \"../leo-omega-ce3a42188817.json\"\n",
    "SCOPE = ['https://www.googleapis.com/auth/drive', 'https://www.googleapis.com/auth/spreadsheets']\n",
    "\n",
    "# Authentification avec Google Sheets\n",
    "creds = ServiceAccountCredentials.from_json_keyfile_name(GOOGLE_CREDENTIALS_FILE, SCOPE)\n",
    "gc = gspread.authorize(creds)\n",
    "#worksheet = gc.open(SPREADSHEET_NAME).sheet1  # Première feuille"
   ]
  },
  {
   "cell_type": "code",
   "execution_count": 3,
   "id": "1eaeb797-4d23-4fc0-930e-0e9a400c5e65",
   "metadata": {},
   "outputs": [
    {
     "name": "stdin",
     "output_type": "stream",
     "text": [
      "Choisir 1 si promo; 2 si normal:  2\n"
     ]
    },
    {
     "ename": "NameError",
     "evalue": "name 'draw_price_tag' is not defined",
     "output_type": "error",
     "traceback": [
      "\u001b[1;31m---------------------------------------------------------------------------\u001b[0m",
      "\u001b[1;31mNameError\u001b[0m                                 Traceback (most recent call last)",
      "Cell \u001b[1;32mIn[3], line 7\u001b[0m\n\u001b[0;32m      5\u001b[0m     sheet_name \u001b[38;5;241m=\u001b[39m \u001b[38;5;124m\"\u001b[39m\u001b[38;5;124mpromo\u001b[39m\u001b[38;5;124m\"\u001b[39m\n\u001b[0;32m      6\u001b[0m \u001b[38;5;28;01melse\u001b[39;00m:\n\u001b[1;32m----> 7\u001b[0m     price_tag \u001b[38;5;241m=\u001b[39m draw_price_tag\n\u001b[0;32m      8\u001b[0m     sheet_name \u001b[38;5;241m=\u001b[39m \u001b[38;5;124m\"\u001b[39m\u001b[38;5;124mnormal\u001b[39m\u001b[38;5;124m\"\u001b[39m\n",
      "\u001b[1;31mNameError\u001b[0m: name 'draw_price_tag' is not defined"
     ]
    }
   ],
   "source": [
    "#choose if promotion or normal\n",
    "choice = input(\"Choisir 1 si promo; 2 si normal: \")\n",
    "if choice==\"1\":\n",
    "    price_tag = draw_price_tag_promo\n",
    "    sheet_name = \"promo\"\n",
    "else:\n",
    "    price_tag = draw_price_tag\n",
    "    sheet_name = \"normal\""
   ]
  },
  {
   "cell_type": "code",
   "execution_count": null,
   "id": "a11d93e8-c2e5-49f1-8a59-eb7cbdeda610",
   "metadata": {},
   "outputs": [],
   "source": [
    "worksheet = gc.open(SPREADSHEET_NAME).worksheet(sheet_name)\n",
    "data = worksheet.get_all_records()"
   ]
  },
  {
   "cell_type": "code",
   "execution_count": null,
   "id": "2660b3f1-b57f-4919-b266-181f6ec9a8c6",
   "metadata": {},
   "outputs": [],
   "source": [
    "# Charger le design PNG depuis le même dossier\n",
    "DESIGN_PATH = \"design.png\"\n",
    "output_folder = \"output_folder\"\n",
    "\n",
    "# Charger les polices\n",
    "font_name = ImageFont.truetype(\"ArchivoBlack-Regular.ttf\", 30)\n",
    "font_ref = ImageFont.truetype(\"ArchivoBlack-Regular.ttf\", 30)\n",
    "font_price1 = ImageFont.truetype(\"ArchivoBlack-Regular.ttf\", 30)\n",
    "font_price2 = ImageFont.truetype(\"ArchivoBlack-Regular.ttf\", 50)\n",
    "\n",
    "# Taille A4 et divisions\n",
    "A4_SIZE = (1414, 2000)\n",
    "COLS, ROWS = 2, 4  # Diviser en 8 tags\n",
    "TAG_WIDTH, TAG_HEIGHT = A4_SIZE[0] // COLS, A4_SIZE[1] // ROWS\n"
   ]
  },
  {
   "cell_type": "code",
   "execution_count": null,
   "id": "b753b67c-62a6-4aed-96c3-c8a020accec4",
   "metadata": {},
   "outputs": [],
   "source": [
    "def format_price(price):\n",
    "    \"\"\"Ajoute des espaces dans le prix pour lisibilité (ex: 1234 -> '1 234 €').\"\"\"\n",
    "    return f\"{price:,.0f}\".replace(\",\", \" \")"
   ]
  },
  {
   "cell_type": "code",
   "execution_count": null,
   "id": "52bf2403-f75a-448f-9933-5bc660704a70",
   "metadata": {},
   "outputs": [],
   "source": [
    "def draw_price_tag_promo(draw, tag_x, tag_y, item):\n",
    "    \"\"\"Dessiner un price tag dans une section spécifique de l'image.\"\"\"\n",
    "    x_offset, y_offset = tag_x * TAG_WIDTH, tag_y * TAG_HEIGHT\n",
    "    \n",
    "    name = f\"Article: {item[\"Name\"][:20]}\"\n",
    "    ref = f\"Ref: {str(item[\"Ref\"])}\"\n",
    "    new_price = f\"{format_price(item['New Price'])} Ar\"\n",
    "    new_price_fmg = f\"{format_price(item['New Price Fmg'])} Fmg\"\n",
    "    last_price = f\"{format_price(item['Last Price'])} Ar\"\n",
    "\n",
    "    # Position des textes dans le premier bloc (modifiable par l'utilisateur)\n",
    "    TEXT_POS = {\n",
    "        \"name\": (50, 400),\n",
    "        \"ref\": (50, 440),\n",
    "        \"new_price\": (290, 260),\n",
    "        \"new_price_fmg\": (290, 320),\n",
    "        \"last_price\": (50, 270)\n",
    "    }\n",
    "    \n",
    "    draw.text((TEXT_POS[\"name\"][0] + x_offset, TEXT_POS[\"name\"][1] + y_offset), name, font=font_name, fill=\"black\")\n",
    "    draw.text((TEXT_POS[\"ref\"][0] + x_offset, TEXT_POS[\"ref\"][1] + y_offset), ref, font=font_ref, fill=\"black\")\n",
    "    draw.text((TEXT_POS[\"new_price\"][0] + x_offset, TEXT_POS[\"new_price\"][1] + y_offset), new_price, font=font_price2, fill=\"#004aad\")\n",
    "    draw.text((TEXT_POS[\"new_price_fmg\"][0] + x_offset, TEXT_POS[\"new_price_fmg\"][1] + y_offset), new_price_fmg, font=font_price1, fill=\"black\")\n",
    "    draw.text((TEXT_POS[\"last_price\"][0] + x_offset, TEXT_POS[\"last_price\"][1] + y_offset), last_price, font=font_price1, fill=\"black\")"
   ]
  },
  {
   "cell_type": "code",
   "execution_count": null,
   "id": "4af8f9d4-b2df-41ee-8bf2-720cd8735ae0",
   "metadata": {},
   "outputs": [],
   "source": [
    "def draw_price_tag(draw, tag_x, tag_y, item):\n",
    "    \"\"\"Dessiner un price tag dans une section spécifique de l'image.\"\"\"\n",
    "    x_offset, y_offset = tag_x * TAG_WIDTH, tag_y * TAG_HEIGHT\n",
    "    \n",
    "    name = f\"Article: {item[\"Name\"][:20]}\"\n",
    "    ref = f\"Ref: {str(item[\"Ref\"])}\"\n",
    "    price = f\"{format_price(item['Price'])} Ar\"\n",
    "    price_fmg = f\"{format_price(item['Price Fmg'])} Fmg\"\n",
    "\n",
    "    # Position des textes dans le premier bloc (modifiable par l'utilisateur)\n",
    "    TEXT_POS = {\n",
    "        \"name\": (50, 400),\n",
    "        \"ref\": (50, 440),\n",
    "        \"price\": (50, 270),\n",
    "        \"price_fmg\": (50, 320),\n",
    "    }\n",
    "    \n",
    "    draw.text((TEXT_POS[\"name\"][0] + x_offset, TEXT_POS[\"name\"][1] + y_offset), name, font=font_name, fill=\"black\")\n",
    "    draw.text((TEXT_POS[\"ref\"][0] + x_offset, TEXT_POS[\"ref\"][1] + y_offset), ref, font=font_ref, fill=\"black\")\n",
    "    draw.text((TEXT_POS[\"price\"][0] + x_offset, TEXT_POS[\"price\"][1] + y_offset), price, font=font_price2, fill=\"#004aad\")\n",
    "    draw.text((TEXT_POS[\"price_fmg\"][0] + x_offset, TEXT_POS[\"price_fmg\"][1] + y_offset), price_fmg, font=font_price1, fill=\"black\")"
   ]
  },
  {
   "cell_type": "code",
   "execution_count": null,
   "id": "2e45e6e9-2ce3-4ed9-8b72-7f428db720a1",
   "metadata": {},
   "outputs": [],
   "source": [
    "def draw_grid(draw):\n",
    "    \"\"\"Dessiner les lignes de séparation des tags.\"\"\"\n",
    "    # Lignes horizontales\n",
    "    for row in range(1, ROWS):\n",
    "        y = row * TAG_HEIGHT\n",
    "        draw.line([(0, y), (A4_SIZE[0], y)], fill=\"black\", width=1)\n",
    "\n",
    "    # Lignes verticales\n",
    "    for col in range(1, COLS):\n",
    "        x = col * TAG_WIDTH\n",
    "        draw.line([(x, 0), (x, A4_SIZE[1])], fill=\"black\", width=1)"
   ]
  },
  {
   "cell_type": "code",
   "execution_count": null,
   "id": "277338c6-2657-430e-98da-134bac281922",
   "metadata": {},
   "outputs": [],
   "source": [
    "# Création des pages avec une boucle while\n",
    "i = 0\n",
    "page_number = 1\n",
    "\n",
    "while i < len(data):\n",
    "    # Nouvelle page\n",
    "    current_page = Image.open(DESIGN_PATH).convert(\"RGBA\")\n",
    "    draw = ImageDraw.Draw(current_page)\n",
    "\n",
    "    # Dessiner la grille de séparation\n",
    "    draw_grid(draw)\n",
    "\n",
    "    # Remplir la page avec 8 produits maximum\n",
    "    for row in range(ROWS):\n",
    "        for col in range(COLS):\n",
    "            if i < len(data):\n",
    "                price_tag(draw, col, row, data[i])\n",
    "                i += 1\n",
    "            else:\n",
    "                break  # Si plus de produits à traiter, on arrête ici\n",
    "    \n",
    "    # Sauvegarde de la page\n",
    "    output_path = os.path.join(output_folder, f\"price_tags_{page_number}.png\")\n",
    "    current_page.save(output_path)\n",
    "    print(f\"Image sauvegardée : {output_path}\")\n",
    "\n",
    "    # Affichage de la page\n",
    "    plt.figure(figsize=(8.27, 11.69))\n",
    "    plt.imshow(np.array(current_page))\n",
    "    plt.axis(\"off\")\n",
    "    plt.show()\n",
    "\n",
    "    page_number += 1"
   ]
  },
  {
   "cell_type": "code",
   "execution_count": null,
   "id": "807f8a69-1b1a-41b4-ae40-a60fffa99bde",
   "metadata": {},
   "outputs": [],
   "source": []
  }
 ],
 "metadata": {
  "kernelspec": {
   "display_name": "Python [conda env:base] *",
   "language": "python",
   "name": "conda-base-py"
  },
  "language_info": {
   "codemirror_mode": {
    "name": "ipython",
    "version": 3
   },
   "file_extension": ".py",
   "mimetype": "text/x-python",
   "name": "python",
   "nbconvert_exporter": "python",
   "pygments_lexer": "ipython3",
   "version": "3.12.7"
  }
 },
 "nbformat": 4,
 "nbformat_minor": 5
}
